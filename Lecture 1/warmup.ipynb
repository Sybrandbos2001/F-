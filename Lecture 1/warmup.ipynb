{
 "cells": [
  {
   "cell_type": "markdown",
   "metadata": {
    "dotnet_interactive": {
     "language": "fsharp"
    }
   },
   "source": [
    "# This is an F# warm up!"
   ]
  },
  {
   "cell_type": "markdown",
   "metadata": {
    "dotnet_interactive": {
     "language": "csharp"
    },
    "polyglot_notebook": {
     "kernelName": "csharp"
    }
   },
   "source": [
    "### The inevitable hello world"
   ]
  },
  {
   "cell_type": "code",
   "execution_count": 1,
   "metadata": {
    "dotnet_interactive": {
     "language": "fsharp"
    },
    "vscode": {
     "languageId": "polyglot-notebook"
    }
   },
   "outputs": [
    {
     "name": "stdout",
     "output_type": "stream",
     "text": [
      "Hello from F#\n"
     ]
    }
   ],
   "source": [
    "printfn \"Hello from %s\" \"F#\""
   ]
  },
  {
   "cell_type": "markdown",
   "metadata": {
    "dotnet_interactive": {
     "language": "csharp"
    },
    "polyglot_notebook": {
     "kernelName": "csharp"
    }
   },
   "source": [
    "Ok.. so what happened here? You might recognize printfn as a function that prints to the console, but where are the parentheses?! 😨\n",
    "\n",
    "Let's look at what *hello world* was again in C# and compare it to F#."
   ]
  },
  {
   "cell_type": "code",
   "execution_count": 2,
   "metadata": {
    "dotnet_interactive": {
     "language": "csharp"
    },
    "vscode": {
     "languageId": "polyglot-notebook"
    }
   },
   "outputs": [
    {
     "name": "stdout",
     "output_type": "stream",
     "text": [
      "Hello form C#\r\n"
     ]
    }
   ],
   "source": [
    "Console.WriteLine(\"Hello form {0}\", \"C#\");"
   ]
  },
  {
   "cell_type": "markdown",
   "metadata": {
    "dotnet_interactive": {
     "language": "csharp"
    },
    "polyglot_notebook": {
     "kernelName": "csharp"
    }
   },
   "source": [
    "`Console.WriteLine` is the function to print, like `printfn`. \n",
    "\n",
    "Then calling a function happens with `(...)` in C# (and almost all OO languages you know!), in most functional style languages calling a function happens with a space ` ` and then the first argument. More arguments can follow with more spaces in between. <sub>You can even omit arguments and the code still works.... more on that later in the course!</sub>\n",
    "\n",
    "The placeholder in the format string `{0}` in C# is similar to the placeholder `%s` in F#, except that in F# we stated what the structure of the placeholder is (a string). The next argument to the printing function is the string that gets placed at that position.\n",
    "\n",
    "By the way, a nicer way to include values in strings is by interpolation, but then we couldn't discuss function arguments..."
   ]
  },
  {
   "cell_type": "code",
   "execution_count": 3,
   "metadata": {
    "dotnet_interactive": {
     "language": "fsharp"
    },
    "vscode": {
     "languageId": "polyglot-notebook"
    }
   },
   "outputs": [
    {
     "name": "stdout",
     "output_type": "stream",
     "text": [
      "Hello from F#\n"
     ]
    }
   ],
   "source": [
    "let fs = \"F#\"\n",
    "printfn $\"Hello from {fs}\""
   ]
  },
  {
   "cell_type": "markdown",
   "metadata": {
    "dotnet_interactive": {
     "language": "csharp"
    },
    "polyglot_notebook": {
     "kernelName": "csharp"
    }
   },
   "source": [
    "### Variables\n",
    "\n",
    "Since we just used our first variable (`fs` in the code above), let's take a quick look at them. You saw that you can declare a variable with `let`, similar to  for example (Java/Type)Script. \n",
    "\n",
    "But.... before running this code, predict what it will do! 🤭"
   ]
  },
  {
   "cell_type": "code",
   "execution_count": 4,
   "metadata": {
    "dotnet_interactive": {
     "language": "fsharp"
    },
    "vscode": {
     "languageId": "polyglot-notebook"
    }
   },
   "outputs": [
    {
     "data": {
      "text/html": [
       "<div class=\"dni-plaintext\"><pre>False</pre></div><style>\r\n",
       ".dni-code-hint {\r\n",
       "    font-style: italic;\r\n",
       "    overflow: hidden;\r\n",
       "    white-space: nowrap;\r\n",
       "}\r\n",
       ".dni-treeview {\r\n",
       "    white-space: nowrap;\r\n",
       "}\r\n",
       ".dni-treeview td {\r\n",
       "    vertical-align: top;\r\n",
       "    text-align: start;\r\n",
       "}\r\n",
       "details.dni-treeview {\r\n",
       "    padding-left: 1em;\r\n",
       "}\r\n",
       "table td {\r\n",
       "    text-align: start;\r\n",
       "}\r\n",
       "table tr { \r\n",
       "    vertical-align: top; \r\n",
       "    margin: 0em 0px;\r\n",
       "}\r\n",
       "table tr td pre \r\n",
       "{ \r\n",
       "    vertical-align: top !important; \r\n",
       "    margin: 0em 0px !important;\r\n",
       "} \r\n",
       "table th {\r\n",
       "    text-align: start;\r\n",
       "}\r\n",
       "</style>"
      ]
     },
     "metadata": {},
     "output_type": "display_data"
    }
   ],
   "source": [
    "let x = 5\n",
    "x = 6"
   ]
  },
  {
   "cell_type": "markdown",
   "metadata": {
    "dotnet_interactive": {
     "language": "csharp"
    },
    "polyglot_notebook": {
     "kernelName": "csharp"
    }
   },
   "source": [
    "What?! `x = 6` returns `False`?!\n",
    "\n",
    "By default F# variables are *immutable*, that is, their value can't change. As you'll see in coming lectures immutability is actually a feature and not just to make your life harder. Immutable variables and functional programming go hand in hand, similar to the way mutable variables and object oriented programming are a good match.\n",
    "\n",
    "The expression `x=6` is not an assignment, but a comparison! In C# this would read as `x == 6`. Since it's generally not a good style to mutate (change) variables, the `=` symbol is used for comparison in F#.\n",
    "\n",
    "For completeness sake, let's take a quick look at mutable variables in F#. (But don't go writing `mutable` each time you declare a variable now! 😟)\n",
    "\n",
    "Note that since `=` is for comparing variables, F# uses the syntax `<-` to assign a new value to a variable."
   ]
  },
  {
   "cell_type": "code",
   "execution_count": 5,
   "metadata": {
    "dotnet_interactive": {
     "language": "fsharp"
    },
    "vscode": {
     "languageId": "polyglot-notebook"
    }
   },
   "outputs": [
    {
     "data": {
      "text/html": [
       "<div class=\"dni-plaintext\"><pre>6</pre></div><style>\r\n",
       ".dni-code-hint {\r\n",
       "    font-style: italic;\r\n",
       "    overflow: hidden;\r\n",
       "    white-space: nowrap;\r\n",
       "}\r\n",
       ".dni-treeview {\r\n",
       "    white-space: nowrap;\r\n",
       "}\r\n",
       ".dni-treeview td {\r\n",
       "    vertical-align: top;\r\n",
       "    text-align: start;\r\n",
       "}\r\n",
       "details.dni-treeview {\r\n",
       "    padding-left: 1em;\r\n",
       "}\r\n",
       "table td {\r\n",
       "    text-align: start;\r\n",
       "}\r\n",
       "table tr { \r\n",
       "    vertical-align: top; \r\n",
       "    margin: 0em 0px;\r\n",
       "}\r\n",
       "table tr td pre \r\n",
       "{ \r\n",
       "    vertical-align: top !important; \r\n",
       "    margin: 0em 0px !important;\r\n",
       "} \r\n",
       "table th {\r\n",
       "    text-align: start;\r\n",
       "}\r\n",
       "</style>"
      ]
     },
     "metadata": {},
     "output_type": "display_data"
    }
   ],
   "source": [
    "let mutable x = 5\n",
    "x <- 6\n",
    "x"
   ]
  },
  {
   "cell_type": "markdown",
   "metadata": {
    "dotnet_interactive": {
     "language": "csharp"
    },
    "polyglot_notebook": {
     "kernelName": "csharp"
    }
   },
   "source": [
    "There is some more on immutable variables after you've got to know how functions work!"
   ]
  },
  {
   "cell_type": "markdown",
   "metadata": {
    "dotnet_interactive": {
     "language": "csharp"
    },
    "polyglot_notebook": {
     "kernelName": "csharp"
    }
   },
   "source": [
    "Ok, let's get to know some of the primitive types. They work the pretty much the same as in C#, except the syntax to manipulate them is slightly different.\n",
    "\n",
    "The next code is shamelessly copied from the [tour of F#](https://docs.microsoft.com/en-us/dotnet/fsharp/tour) (take a look at this after finishing this notebook!). In this tour you also find examples for booleans and strings."
   ]
  },
  {
   "cell_type": "code",
   "execution_count": 6,
   "metadata": {
    "dotnet_interactive": {
     "language": "fsharp"
    },
    "vscode": {
     "languageId": "polyglot-notebook"
    }
   },
   "outputs": [
    {
     "name": "stdout",
     "output_type": "stream",
     "text": [
      "The table of squares from 0 to 99 is:\n",
      "[(0, 0); (1, 1); (2, 4); ... ]\n"
     ]
    },
    {
     "data": {
      "text/html": [
       "<table><thead><tr><th><i>index</i></th><th>Item1</th><th>Item2</th></tr></thead><tbody><tr><td>0</td><td><div class=\"dni-plaintext\"><pre>0</pre></div></td><td><div class=\"dni-plaintext\"><pre>0</pre></div></td></tr><tr><td>1</td><td><div class=\"dni-plaintext\"><pre>1</pre></div></td><td><div class=\"dni-plaintext\"><pre>1</pre></div></td></tr><tr><td>2</td><td><div class=\"dni-plaintext\"><pre>2</pre></div></td><td><div class=\"dni-plaintext\"><pre>4</pre></div></td></tr><tr><td>3</td><td><div class=\"dni-plaintext\"><pre>3</pre></div></td><td><div class=\"dni-plaintext\"><pre>9</pre></div></td></tr><tr><td>4</td><td><div class=\"dni-plaintext\"><pre>4</pre></div></td><td><div class=\"dni-plaintext\"><pre>16</pre></div></td></tr><tr><td>5</td><td><div class=\"dni-plaintext\"><pre>5</pre></div></td><td><div class=\"dni-plaintext\"><pre>25</pre></div></td></tr><tr><td>6</td><td><div class=\"dni-plaintext\"><pre>6</pre></div></td><td><div class=\"dni-plaintext\"><pre>36</pre></div></td></tr><tr><td>7</td><td><div class=\"dni-plaintext\"><pre>7</pre></div></td><td><div class=\"dni-plaintext\"><pre>49</pre></div></td></tr><tr><td>8</td><td><div class=\"dni-plaintext\"><pre>8</pre></div></td><td><div class=\"dni-plaintext\"><pre>64</pre></div></td></tr><tr><td>9</td><td><div class=\"dni-plaintext\"><pre>9</pre></div></td><td><div class=\"dni-plaintext\"><pre>81</pre></div></td></tr><tr><td>10</td><td><div class=\"dni-plaintext\"><pre>10</pre></div></td><td><div class=\"dni-plaintext\"><pre>100</pre></div></td></tr><tr><td>11</td><td><div class=\"dni-plaintext\"><pre>11</pre></div></td><td><div class=\"dni-plaintext\"><pre>121</pre></div></td></tr><tr><td>12</td><td><div class=\"dni-plaintext\"><pre>12</pre></div></td><td><div class=\"dni-plaintext\"><pre>144</pre></div></td></tr><tr><td>13</td><td><div class=\"dni-plaintext\"><pre>13</pre></div></td><td><div class=\"dni-plaintext\"><pre>169</pre></div></td></tr><tr><td>14</td><td><div class=\"dni-plaintext\"><pre>14</pre></div></td><td><div class=\"dni-plaintext\"><pre>196</pre></div></td></tr><tr><td>15</td><td><div class=\"dni-plaintext\"><pre>15</pre></div></td><td><div class=\"dni-plaintext\"><pre>225</pre></div></td></tr><tr><td>16</td><td><div class=\"dni-plaintext\"><pre>16</pre></div></td><td><div class=\"dni-plaintext\"><pre>256</pre></div></td></tr><tr><td>17</td><td><div class=\"dni-plaintext\"><pre>17</pre></div></td><td><div class=\"dni-plaintext\"><pre>289</pre></div></td></tr><tr><td>18</td><td><div class=\"dni-plaintext\"><pre>18</pre></div></td><td><div class=\"dni-plaintext\"><pre>324</pre></div></td></tr><tr><td>19</td><td><div class=\"dni-plaintext\"><pre>19</pre></div></td><td><div class=\"dni-plaintext\"><pre>361</pre></div></td></tr><tr><td colspan=\"3\"><i>... (more)</i></td></tr></tbody></table><style>\r\n",
       ".dni-code-hint {\r\n",
       "    font-style: italic;\r\n",
       "    overflow: hidden;\r\n",
       "    white-space: nowrap;\r\n",
       "}\r\n",
       ".dni-treeview {\r\n",
       "    white-space: nowrap;\r\n",
       "}\r\n",
       ".dni-treeview td {\r\n",
       "    vertical-align: top;\r\n",
       "    text-align: start;\r\n",
       "}\r\n",
       "details.dni-treeview {\r\n",
       "    padding-left: 1em;\r\n",
       "}\r\n",
       "table td {\r\n",
       "    text-align: start;\r\n",
       "}\r\n",
       "table tr { \r\n",
       "    vertical-align: top; \r\n",
       "    margin: 0em 0px;\r\n",
       "}\r\n",
       "table tr td pre \r\n",
       "{ \r\n",
       "    vertical-align: top !important; \r\n",
       "    margin: 0em 0px !important;\r\n",
       "} \r\n",
       "table th {\r\n",
       "    text-align: start;\r\n",
       "}\r\n",
       "</style>"
      ]
     },
     "metadata": {},
     "output_type": "display_data"
    }
   ],
   "source": [
    "module IntegersAndNumbers = \n",
    "\n",
    "    /// This is a sample integer.\n",
    "    let sampleInteger = 176\n",
    "\n",
    "    /// This is a sample floating point number.\n",
    "    let sampleDouble = 4.1\n",
    "\n",
    "    /// This computed a new number by some arithmetic.  Numeric types are converted using\n",
    "    /// functions 'int', 'double' and so on.\n",
    "    let sampleInteger2 = (sampleInteger/4 + 5 - 7) * 4 + int sampleDouble\n",
    "\n",
    "    /// This is a list of the numbers from 0 to 99.\n",
    "    let sampleNumbers = [ 0 .. 99 ]\n",
    "\n",
    "    /// This is a list of all tuples containing all the numbers from 0 to 99 and their squares.\n",
    "    let sampleTableOfSquares = [ for i in 0 .. 99 -> (i, i*i) ]\n",
    "\n",
    "    // The next line prints a list that includes tuples, using an interpolated string.\n",
    "    printfn $\"The table of squares from 0 to 99 is:\\n{sampleTableOfSquares}\"\n",
    "\n",
    "IntegersAndNumbers.sampleTableOfSquares"
   ]
  },
  {
   "cell_type": "markdown",
   "metadata": {
    "dotnet_interactive": {
     "language": "csharp"
    },
    "polyglot_notebook": {
     "kernelName": "csharp"
    }
   },
   "source": [
    "Ok, let's quickly discuss the parts you might not be familiar with.\n",
    "\n",
    "Basic arithmetic works like you expect and casting variables works similar too (although no parentheses!): `int sampleDouble` returns the double casted to an int.\n",
    "\n",
    "`[]` defines a list (remember Python!) and when instantiating a new list we can make use of [sequence expressions](https://docs.microsoft.com/en-us/dotnet/fsharp/language-reference/sequences#sequence-expressions): `[ 0 .. 99 ]` or a construction like `[ for i in 0 .. 99 -> (i, i*i) ]` (think of list comprehensions in Python! 🤓).\n",
    "\n",
    "Finally, you see we defined all these values in a `module`. Modules are the way to group together values, functions, and types. This keeps your code organized. The contents of the module can be accessed with a familiar notation `<module>.<content>`."
   ]
  },
  {
   "cell_type": "markdown",
   "metadata": {
    "dotnet_interactive": {
     "language": "fsharp"
    }
   },
   "source": [
    "### Functions\n",
    "\n",
    "For the final part in this warm up (but don't forget the [tour of F#](https://docs.microsoft.com/en-us/dotnet/fsharp/tour)!) we'll take a closer look at functions.\n",
    "\n",
    "Functions are 'first class citizens' in F#, that means that you can treat them as values and store them in variables. Much like you can in (Java/Type)Script, but unlike C# or Java."
   ]
  },
  {
   "cell_type": "code",
   "execution_count": 7,
   "metadata": {
    "dotnet_interactive": {
     "language": "fsharp"
    },
    "vscode": {
     "languageId": "polyglot-notebook"
    }
   },
   "outputs": [
    {
     "name": "stdout",
     "output_type": "stream",
     "text": [
      "(a + 1) * (b + 2) = 8 and (8 when stored in a value) when x = 1 and y = 2\n"
     ]
    }
   ],
   "source": [
    "let a = 1\n",
    "let b = 2\n",
    "let f x y = (x + 1) * (y + 2)\n",
    "let result = f a b\n",
    "printfn $\"(a + 1) * (b + 2) = {f a b} and ({result} when stored in a value) when x = {a} and y = {b}\""
   ]
  },
  {
   "cell_type": "markdown",
   "metadata": {
    "dotnet_interactive": {
     "language": "csharp"
    },
    "polyglot_notebook": {
     "kernelName": "csharp"
    }
   },
   "source": [
    "But wait, if I can't change the variables, how am I ever going to do something useful with F#? 😕\n",
    "\n",
    "Well there are several ways to write a program with just immutable variables. We'll cover most of those in later lectures, but for now I want to show you 'variable shadowing':"
   ]
  },
  {
   "cell_type": "code",
   "execution_count": 9,
   "metadata": {
    "dotnet_interactive": {
     "language": "fsharp"
    },
    "vscode": {
     "languageId": "polyglot-notebook"
    }
   },
   "outputs": [
    {
     "name": "stdout",
     "output_type": "stream",
     "text": [
      "fixedNumber is 4\n",
      "but now... fixedNumber is 6\n"
     ]
    }
   ],
   "source": [
    "let f = \n",
    "    let fixedNumber = 4\n",
    "    printfn $\"fixedNumber is {fixedNumber}\"\n",
    "    let fixedNumber = 6\n",
    "    // from now on we cannot 'see' the previous definition of fixedNumber\n",
    "    printfn $\"but now... fixedNumber is {fixedNumber}\""
   ]
  },
  {
   "cell_type": "markdown",
   "metadata": {
    "dotnet_interactive": {
     "language": "fsharp"
    }
   },
   "source": [
    "Note however that shadowing is only allowed at certain places, like in a function. You could use shadowing to keep code in a function readable, while building towards the result in several steps (you would probably mutate variables with a similar function in C#, for example `result += 1`)."
   ]
  },
  {
   "cell_type": "code",
   "execution_count": 10,
   "metadata": {
    "dotnet_interactive": {
     "language": "fsharp"
    },
    "vscode": {
     "languageId": "polyglot-notebook"
    }
   },
   "outputs": [
    {
     "data": {
      "text/html": [
       "<div class=\"dni-plaintext\"><pre>20</pre></div><style>\r\n",
       ".dni-code-hint {\r\n",
       "    font-style: italic;\r\n",
       "    overflow: hidden;\r\n",
       "    white-space: nowrap;\r\n",
       "}\r\n",
       ".dni-treeview {\r\n",
       "    white-space: nowrap;\r\n",
       "}\r\n",
       ".dni-treeview td {\r\n",
       "    vertical-align: top;\r\n",
       "    text-align: start;\r\n",
       "}\r\n",
       "details.dni-treeview {\r\n",
       "    padding-left: 1em;\r\n",
       "}\r\n",
       "table td {\r\n",
       "    text-align: start;\r\n",
       "}\r\n",
       "table tr { \r\n",
       "    vertical-align: top; \r\n",
       "    margin: 0em 0px;\r\n",
       "}\r\n",
       "table tr td pre \r\n",
       "{ \r\n",
       "    vertical-align: top !important; \r\n",
       "    margin: 0em 0px !important;\r\n",
       "} \r\n",
       "table th {\r\n",
       "    text-align: start;\r\n",
       "}\r\n",
       "</style>"
      ]
     },
     "metadata": {},
     "output_type": "display_data"
    }
   ],
   "source": [
    "let doubleSquaredPlusOne x = \n",
    "    let result = x * x\n",
    "    let result = result + 1\n",
    "    result * 2\n",
    "\n",
    "doubleSquaredPlusOne 3 // ((3 * 3) + 1) * 2) = 20"
   ]
  },
  {
   "cell_type": "markdown",
   "metadata": {
    "dotnet_interactive": {
     "language": "csharp"
    },
    "polyglot_notebook": {
     "kernelName": "csharp"
    }
   },
   "source": [
    "Another way in which you can do useful work with immutable variables you already know! Remember the two toy recursive functions from ADS (Algoritmen en Datastructuren)?\n",
    "\n",
    "Note that you have to tell the compiler the function is recursive with `let rec`!"
   ]
  },
  {
   "cell_type": "code",
   "execution_count": 11,
   "metadata": {
    "dotnet_interactive": {
     "language": "fsharp"
    },
    "vscode": {
     "languageId": "polyglot-notebook"
    }
   },
   "outputs": [
    {
     "data": {
      "text/html": [
       "<div class=\"dni-plaintext\"><pre>120</pre></div><style>\r\n",
       ".dni-code-hint {\r\n",
       "    font-style: italic;\r\n",
       "    overflow: hidden;\r\n",
       "    white-space: nowrap;\r\n",
       "}\r\n",
       ".dni-treeview {\r\n",
       "    white-space: nowrap;\r\n",
       "}\r\n",
       ".dni-treeview td {\r\n",
       "    vertical-align: top;\r\n",
       "    text-align: start;\r\n",
       "}\r\n",
       "details.dni-treeview {\r\n",
       "    padding-left: 1em;\r\n",
       "}\r\n",
       "table td {\r\n",
       "    text-align: start;\r\n",
       "}\r\n",
       "table tr { \r\n",
       "    vertical-align: top; \r\n",
       "    margin: 0em 0px;\r\n",
       "}\r\n",
       "table tr td pre \r\n",
       "{ \r\n",
       "    vertical-align: top !important; \r\n",
       "    margin: 0em 0px !important;\r\n",
       "} \r\n",
       "table th {\r\n",
       "    text-align: start;\r\n",
       "}\r\n",
       "</style>"
      ]
     },
     "metadata": {},
     "output_type": "display_data"
    }
   ],
   "source": [
    "let rec factorial n =\n",
    "    if n > 0 then n * factorial (n-1) else 1\n",
    "\n",
    "factorial 5"
   ]
  },
  {
   "cell_type": "code",
   "execution_count": 13,
   "metadata": {
    "dotnet_interactive": {
     "language": "fsharp"
    },
    "vscode": {
     "languageId": "polyglot-notebook"
    }
   },
   "outputs": [
    {
     "data": {
      "text/html": [
       "<table><thead><tr><th><i>index</i></th><th>Item1</th><th>Item2</th></tr></thead><tbody><tr><td>0</td><td><div class=\"dni-plaintext\"><pre>1</pre></div></td><td><div class=\"dni-plaintext\"><pre>1</pre></div></td></tr><tr><td>1</td><td><div class=\"dni-plaintext\"><pre>2</pre></div></td><td><div class=\"dni-plaintext\"><pre>1</pre></div></td></tr><tr><td>2</td><td><div class=\"dni-plaintext\"><pre>3</pre></div></td><td><div class=\"dni-plaintext\"><pre>2</pre></div></td></tr><tr><td>3</td><td><div class=\"dni-plaintext\"><pre>4</pre></div></td><td><div class=\"dni-plaintext\"><pre>3</pre></div></td></tr><tr><td>4</td><td><div class=\"dni-plaintext\"><pre>5</pre></div></td><td><div class=\"dni-plaintext\"><pre>5</pre></div></td></tr><tr><td>5</td><td><div class=\"dni-plaintext\"><pre>6</pre></div></td><td><div class=\"dni-plaintext\"><pre>8</pre></div></td></tr><tr><td>6</td><td><div class=\"dni-plaintext\"><pre>7</pre></div></td><td><div class=\"dni-plaintext\"><pre>13</pre></div></td></tr><tr><td>7</td><td><div class=\"dni-plaintext\"><pre>8</pre></div></td><td><div class=\"dni-plaintext\"><pre>21</pre></div></td></tr><tr><td>8</td><td><div class=\"dni-plaintext\"><pre>9</pre></div></td><td><div class=\"dni-plaintext\"><pre>34</pre></div></td></tr><tr><td>9</td><td><div class=\"dni-plaintext\"><pre>10</pre></div></td><td><div class=\"dni-plaintext\"><pre>55</pre></div></td></tr></tbody></table><style>\r\n",
       ".dni-code-hint {\r\n",
       "    font-style: italic;\r\n",
       "    overflow: hidden;\r\n",
       "    white-space: nowrap;\r\n",
       "}\r\n",
       ".dni-treeview {\r\n",
       "    white-space: nowrap;\r\n",
       "}\r\n",
       ".dni-treeview td {\r\n",
       "    vertical-align: top;\r\n",
       "    text-align: start;\r\n",
       "}\r\n",
       "details.dni-treeview {\r\n",
       "    padding-left: 1em;\r\n",
       "}\r\n",
       "table td {\r\n",
       "    text-align: start;\r\n",
       "}\r\n",
       "table tr { \r\n",
       "    vertical-align: top; \r\n",
       "    margin: 0em 0px;\r\n",
       "}\r\n",
       "table tr td pre \r\n",
       "{ \r\n",
       "    vertical-align: top !important; \r\n",
       "    margin: 0em 0px !important;\r\n",
       "} \r\n",
       "table th {\r\n",
       "    text-align: start;\r\n",
       "}\r\n",
       "</style>"
      ]
     },
     "metadata": {},
     "output_type": "display_data"
    }
   ],
   "source": [
    "let rec fibonacci n =\n",
    "    if n > 2 then fibonacci (n-1) + fibonacci (n-2) else 1\n",
    "\n",
    "[ for i in 1 .. 10 -> (i, fibonacci i) ]"
   ]
  },
  {
   "cell_type": "markdown",
   "metadata": {
    "dotnet_interactive": {
     "language": "csharp"
    },
    "polyglot_notebook": {
     "kernelName": "csharp"
    }
   },
   "source": [
    "In each recursive call of the function a new variable for the argument `n` is placed on the stack, so these variables have been immutable all along!\n",
    "\n",
    "<sub>Some foreshadowing.... there's a lot of recursion to come!</sub>"
   ]
  },
  {
   "cell_type": "markdown",
   "metadata": {
    "dotnet_interactive": {
     "language": "csharp"
    },
    "polyglot_notebook": {
     "kernelName": "csharp"
    }
   },
   "source": [
    "### Implicit and explicit types\n",
    "\n",
    "The keen amongst you have seen that we did not specify any type of a variable yet! All variables do have a type though, but the F# compiler can deduce what the type should be of many variables. This is called *type inference*. (To infer means to determine from context.)\n",
    "\n",
    "Just to understand how type declarations work, let's take a look at how we declare them explicitly."
   ]
  },
  {
   "cell_type": "code",
   "execution_count": null,
   "metadata": {
    "dotnet_interactive": {
     "language": "fsharp"
    },
    "vscode": {
     "languageId": "polyglot-notebook"
    }
   },
   "outputs": [],
   "source": [
    "let x: int = 5\n",
    "let s: string = \"I'm a string\"\n",
    "let f: int -> int = fun x -> x + 1\n",
    "let g: unit -> string = fun unit -> \"hello!\""
   ]
  },
  {
   "cell_type": "markdown",
   "metadata": {
    "dotnet_interactive": {
     "language": "csharp"
    },
    "polyglot_notebook": {
     "kernelName": "csharp"
    }
   },
   "source": [
    "Primitive types work pretty much as you'd expect. The syntax is similar to TypeScript. \n",
    "\n",
    "Since functions are first class citizens you can also explicitly state the type of a function. There are two simple examples in the code above. The first `int -> int` is a function that has an integer argument and returns an integer. The second `unit -> string` has `unit` as argument (and returning a string). You probably know `unit` as `void` in C# or other languages. So a variable of type `unit -> string` is a function that takes no arguments and returns a string.\n",
    "\n",
    "Finally you have just seen your first *lambda function*: `fun unit -> \"hello!\"`. You might know lambda functions from other languages: for example C# has them and they're known as fat arrow functions in (Java/Type)Script."
   ]
  },
  {
   "cell_type": "markdown",
   "metadata": {
    "dotnet_interactive": {
     "language": "csharp"
    },
    "polyglot_notebook": {
     "kernelName": "csharp"
    }
   },
   "source": [
    "### Objects (phew... something familiar)\n",
    "\n",
    "F# also has objects similar to most Object Oriented languages. Let's take a quick look at them so you know how they work. However, in a lot of exercises (and in the exam!) you won't use objects. We want to challenge you to go functional all the way 😎.\n",
    "\n",
    "A class is called a `type` and it works quite similar to how [JavaScript classes work](https://developer.mozilla.org/en-US/docs/Web/JavaScript/Reference/Operators/new). The class is defined by a kind of function, its constructor, and you can instantiate a new object by simply calling this function. \n",
    "\n",
    "Inside this constructor you can define variables and use them. Methods can be declared with the keyword `member` followed by a function. Note that `this` is used to refer to the current instance. \n",
    "\n",
    "Below are two examples, a counter type and a generic type that just packages another value. For reference the same types are implemented in C#, so you can spot the differences!"
   ]
  },
  {
   "cell_type": "code",
   "execution_count": 14,
   "metadata": {
    "dotnet_interactive": {
     "language": "fsharp"
    },
    "vscode": {
     "languageId": "polyglot-notebook"
    }
   },
   "outputs": [
    {
     "name": "stdout",
     "output_type": "stream",
     "text": [
      "counter value is 0\n",
      "counter value is 1\n",
      "counter value is 5\n",
      "counter value is 4\n"
     ]
    }
   ],
   "source": [
    "type Counter() = \n",
    "    let mutable count = 0\n",
    "\n",
    "    member this.increment = \n",
    "        count <- count + 1\n",
    "\n",
    "    member this.incrementWith x = \n",
    "        count <- count + x\n",
    "\n",
    "    member this.decrement = \n",
    "        count <- count - 1\n",
    "\n",
    "    member this.printValue = \n",
    "        printfn $\"counter value is {count}\"\n",
    "\n",
    "let counter = Counter()\n",
    "counter.printValue\n",
    "counter.increment\n",
    "counter.printValue\n",
    "counter.incrementWith 4\n",
    "counter.printValue\n",
    "counter.decrement\n",
    "counter.printValue"
   ]
  },
  {
   "cell_type": "code",
   "execution_count": 15,
   "metadata": {
    "dotnet_interactive": {
     "language": "csharp"
    },
    "vscode": {
     "languageId": "polyglot-notebook"
    }
   },
   "outputs": [
    {
     "name": "stdout",
     "output_type": "stream",
     "text": [
      "counter value is 0\n",
      "counter value is 1\n",
      "counter value is 5\n",
      "counter value is 4\n"
     ]
    }
   ],
   "source": [
    "class Counter {\n",
    "    private int count;\n",
    "\n",
    "    public Counter() {\n",
    "        this.count = 0;\n",
    "    }\n",
    "\n",
    "    public void Increment() {\n",
    "        this.count++;\n",
    "    }\n",
    "\n",
    "    public void IncrementWith(int value) {\n",
    "        this.count += value;\n",
    "    }\n",
    "\n",
    "    public void Decrement() {\n",
    "        this.count--;\n",
    "    }\n",
    "\n",
    "    public void PrintValue() {\n",
    "        Console.WriteLine(\"counter value is {0}\", this.count);\n",
    "    }\n",
    "}\n",
    "\n",
    "var count = new Counter();\n",
    "count.PrintValue();\n",
    "count.Increment();\n",
    "count.PrintValue();\n",
    "count.IncrementWith(4);\n",
    "count.PrintValue();\n",
    "count.Decrement();\n",
    "count.PrintValue();"
   ]
  },
  {
   "cell_type": "code",
   "execution_count": 16,
   "metadata": {
    "dotnet_interactive": {
     "language": "fsharp"
    },
    "vscode": {
     "languageId": "polyglot-notebook"
    }
   },
   "outputs": [
    {
     "name": "stdout",
     "output_type": "stream",
     "text": [
      "my value is 4\n"
     ]
    }
   ],
   "source": [
    "type PackagedValue<'T>(value: 'T) = \n",
    "    member this.value = value\n",
    "\n",
    "    member this.printValue = \n",
    "        printfn $\"my value is {this.value}\"    \n",
    "\n",
    "let package = PackagedValue 4\n",
    "package.printValue"
   ]
  },
  {
   "cell_type": "code",
   "execution_count": null,
   "metadata": {
    "dotnet_interactive": {
     "language": "csharp"
    },
    "vscode": {
     "languageId": "polyglot-notebook"
    }
   },
   "outputs": [],
   "source": [
    "class PackagedValue<T> {\n",
    "    private T value;\n",
    "\n",
    "    public PackagedValue(T value) {\n",
    "        this.value = value;\n",
    "    }\n",
    "\n",
    "    public void PrintValue() {\n",
    "        Console.WriteLine(\"my value is {0}\", this.value);\n",
    "    }\n",
    "}\n",
    "\n",
    "var package = new PackagedValue<int>(4);\n",
    "package.PrintValue();"
   ]
  },
  {
   "cell_type": "markdown",
   "metadata": {
    "dotnet_interactive": {
     "language": "csharp"
    },
    "polyglot_notebook": {
     "kernelName": "csharp"
    }
   },
   "source": [
    "### Wrapping up\n",
    "\n",
    "We can't discuss all features of F# here, so don't forget that there is [good documentation](https://docs.microsoft.com/en-us/dotnet/fsharp/) available!\n",
    "\n",
    "Note that there are sections with [a tour of F#](https://docs.microsoft.com/en-us/dotnet/fsharp/tour) (good starting point!), with a [style guide](https://docs.microsoft.com/en-us/dotnet/fsharp/style-guide/formatting#general-rules-for-formatting) and a [reference with all F# features](https://docs.microsoft.com/en-us/dotnet/fsharp/language-reference/).\n",
    "\n",
    "If F# is new to you I really recommend taking a look at the tour of F#! Learn the basic syntax from there, but don't worry if you don't understand everything, we'll cover more topics in coming lectures.\n",
    "\n",
    "There are some exercises for you to get started with the basic syntax of F#. Make sure to do them before the next lecture! 🧐"
   ]
  }
 ],
 "metadata": {
  "kernelspec": {
   "display_name": ".NET (C#)",
   "language": "C#",
   "name": ".net-csharp"
  },
  "polyglot_notebook": {
   "kernelInfo": {
    "defaultKernelName": "csharp",
    "items": [
     {
      "aliases": [
       "c#",
       "C#"
      ],
      "languageName": "C#",
      "name": "csharp"
     },
     {
      "aliases": [],
      "name": ".NET"
     },
     {
      "aliases": [
       "f#",
       "F#"
      ],
      "languageName": "F#",
      "name": "fsharp"
     },
     {
      "aliases": [],
      "languageName": "HTML",
      "name": "html"
     },
     {
      "aliases": [],
      "languageName": "KQL",
      "name": "kql"
     },
     {
      "aliases": [],
      "languageName": "Mermaid",
      "name": "mermaid"
     },
     {
      "aliases": [
       "powershell"
      ],
      "languageName": "PowerShell",
      "name": "pwsh"
     },
     {
      "aliases": [],
      "languageName": "SQL",
      "name": "sql"
     },
     {
      "aliases": [],
      "name": "value"
     },
     {
      "aliases": [
       "frontend"
      ],
      "name": "vscode"
     }
    ]
   }
  }
 },
 "nbformat": 4,
 "nbformat_minor": 2
}
