{
 "cells": [
  {
   "cell_type": "markdown",
   "metadata": {
    "dotnet_interactive": {
     "language": "fsharp"
    }
   },
   "source": [
    "# Warm up exercises\n",
    "\n",
    "These exercises are meant to get you started with F#. Good luck! 🤞"
   ]
  },
  {
   "cell_type": "markdown",
   "metadata": {
    "dotnet_interactive": {
     "language": "csharp"
    },
    "polyglot_notebook": {
     "kernelName": "csharp"
    }
   },
   "source": [
    "### Exercise 1: numbers\n",
    "\n",
    "<ol type=\"a\">\n",
    "    <li>Define an integer <i>x</i> with value 5, using type inference (this one's easier than you might think).</li>\n",
    "    <li>Define a float <i>y</i> that is the sum of 1.5 and 5... (I know it gives a warning, try solving it! What does this teach you?)</li>\n",
    "    <li>Define a double <i>z</i> with value 3.14. Are you sure it's a double and not a float? Did you use type inference?</li>\n",
    "</ol>"
   ]
  },
  {
   "cell_type": "code",
   "execution_count": 8,
   "metadata": {
    "dotnet_interactive": {
     "language": "fsharp"
    },
    "vscode": {
     "languageId": "polyglot-notebook"
    }
   },
   "outputs": [
    {
     "name": "stdout",
     "output_type": "stream",
     "text": [
      "5\n",
      "6.5\n",
      "3.14\n"
     ]
    }
   ],
   "source": [
    "let x = 5\n",
    "printfn \"%A\" x\n",
    "\n",
    "let float y = 1.5 + 5.0\n",
    "printfn \"%A\" y\n",
    "\n",
    "let double z = 3.14\n",
    "printfn \"%A\" z\n",
    "\n"
   ]
  },
  {
   "cell_type": "markdown",
   "metadata": {
    "dotnet_interactive": {
     "language": "csharp"
    },
    "polyglot_notebook": {
     "kernelName": "csharp"
    }
   },
   "source": [
    "### Exercise 2: strings\n",
    "\n",
    "<ol type=\"a\">\n",
    "    <li>Define a string <i>s</i> with value \"this is my first F# string\"</li>\n",
    "    <li>Extract the character at position 18 from this string (consult the [docs](https://docs.microsoft.com/en-us/dotnet/fsharp/language-reference/strings) if you don't know how)</li>\n",
    "    <li>You've seen you can make a range of numbers with 0 .. 99, could we use this to extract the substring \"F# string\" from <i>s</i>?</li>\n",
    "    <li>Try to concatenate the two strings \"sum of \" and \"strings\" together to get one string \"sum of strings\".</li>\n",
    "</ol>"
   ]
  },
  {
   "cell_type": "code",
   "execution_count": 22,
   "metadata": {
    "dotnet_interactive": {
     "language": "fsharp"
    },
    "vscode": {
     "languageId": "polyglot-notebook"
    }
   },
   "outputs": [
    {
     "name": "stdout",
     "output_type": "stream",
     "text": [
      "\"this is my first F# string\"\n",
      "'F'\n",
      "\"F# string\"\n",
      "\"sum of strings\"\n"
     ]
    }
   ],
   "source": [
    "let s = \"this is my first F# string\"\n",
    "printfn \"%A\" s\n",
    "\n",
    "let char = s.[17]\n",
    "printfn \"%A\" char\n",
    "\n",
    "let stringExtraction = s[17..25]\n",
    "printfn \"%A\" stringExtraction\n",
    "\n",
    "let sum = \"sum of \"  + \"strings\"\n",
    "printfn \"%A\" sum\n",
    "\n"
   ]
  },
  {
   "cell_type": "markdown",
   "metadata": {
    "dotnet_interactive": {
     "language": "csharp"
    },
    "polyglot_notebook": {
     "kernelName": "csharp"
    }
   },
   "source": [
    "### Exercise 3: tuples\n",
    "\n",
    "Maybe you've seen tuples in another language (for example Python). It's basically a little group of values, where the order of the values is important. Take a look at the [docs](https://docs.microsoft.com/en-us/dotnet/fsharp/language-reference/tuples) if you need. \n",
    "\n",
    "<ol type=\"a\">\n",
    "    <li>Define a tuple <i>t</i> with the values 1 and 2 in it.</li>\n",
    "    <li>Try to figure out what the type of tuple <i>t</i> is. (psst... try hovering your cursor over <i>t</i> in the definition you just wrote.)</li>\n",
    "    <li>Check that you know how to define the explicit type of a tuple by defining tuple <i>u</i> with 1 and \"two\" giving the explicit type of <i>u</i>.</li>\n",
    "    <li>You just learned that the values in a tuple do not need to be of the same type! Now create a tuple <i>v</i> that has the tuples <i>t</i> and <i>u</i> as values (so tuples can go in other tuples!)</li>\n",
    "    <li>Now let's get a value out of a tuple. We can't use indexes, but we'll need to use a technique called destructuring: let (a, b) = (1, 2) assigns 1 to <i>a</i> and 2 to <i>b</i>. Try to get out the integer and the string from tuple <i>u</i>.</li>\n",
    "</ol>\n",
    "\n",
    "Btw there's destructuring in other languages too, such as in (Java/Type)Script: [JS docs](https://developer.mozilla.org/en-US/docs/Web/JavaScript/Reference/Operators/Destructuring_assignment)."
   ]
  },
  {
   "cell_type": "code",
   "execution_count": 28,
   "metadata": {
    "dotnet_interactive": {
     "language": "fsharp"
    },
    "vscode": {
     "languageId": "polyglot-notebook"
    }
   },
   "outputs": [
    {
     "name": "stdout",
     "output_type": "stream",
     "text": [
      "Tupel u bevat de waarden: 1 en \"two\"\n"
     ]
    }
   ],
   "source": [
    "let t = (1,2)\n",
    "let u = (1, \"two\")\n",
    "let v = (t, u)\n",
    "let (a, b) = u\n",
    "printfn \"Tupel u bevat de waarden: %A en %A\" a b\n"
   ]
  },
  {
   "cell_type": "markdown",
   "metadata": {
    "dotnet_interactive": {
     "language": "csharp"
    },
    "polyglot_notebook": {
     "kernelName": "csharp"
    }
   },
   "source": [
    "### Exercise 4: functions\n",
    "\n",
    "<ol type=\"a\">\n",
    "    <li>Define a function <i>successor</i> that returns the <a href=\"https://en.wikipedia.org/wiki/Successor_function\">successor of a number</a> x (that is x+1). Don't forget to test it on some values!</li>\n",
    "    <li>Define a function <i>doubleMe</i> that takes an argument x and doubles it with the +. (Try it on numbers and strings! Note however that you cannot use the function on integers and strings in the same program... why is that? <sub>(think of type inference!)</sub>)</li>\n",
    "    <li>Define a function <i>doubleUs</i> that takes two arguments and doubles both arguments by calling <i>doubleMe</i>. Now we want to return both doubled values.... Ah! Tuples! Make <i>doubleUs</i> return a tuple with the doubled value of the first parameter in the first spot and that of the second parameter in the second spot.</li>\n",
    "    <li>Define a function <i>isEven</i> with an explicit type (to check that you understand function types). The function of course takes an integer and returns a boolean, telling you whether the number is even. (If you get \"type int does not support the operator '==', think back of the start of the warm up notebook!)</li>\n",
    "</ol>"
   ]
  },
  {
   "cell_type": "code",
   "execution_count": 35,
   "metadata": {
    "dotnet_interactive": {
     "language": "fsharp"
    },
    "vscode": {
     "languageId": "polyglot-notebook"
    }
   },
   "outputs": [
    {
     "name": "stdout",
     "output_type": "stream",
     "text": [
      "-4\n",
      "3\n",
      "1001\n",
      "-10\n",
      "4\n",
      "2000\n",
      "(6, 8)\n",
      "false\n"
     ]
    }
   ],
   "source": [
    "let successor x = x+1\n",
    "\n",
    "printfn \"%A\" (successor -5)\n",
    "printfn \"%A\" (successor 2)\n",
    "printfn \"%A\" (successor 1000)\n",
    "\n",
    "let doubleMe x = x + x\n",
    "\n",
    "printfn \"%A\" (doubleMe -5)\n",
    "printfn \"%A\" (doubleMe 2)\n",
    "printfn \"%A\" (doubleMe 1000)\n",
    "\n",
    "let doubleUs x y =\n",
    "    let t = (doubleMe x, doubleMe y) \n",
    "    t //Return tuple\n",
    "\n",
    "printfn \"%A\" (doubleUs 3 4)\n",
    "\n",
    "let isEven x = x % 2 = 0\n",
    "printfn \"%A\" (isEven 3)\n",
    "\n",
    "\n",
    "\n",
    "\n"
   ]
  },
  {
   "cell_type": "markdown",
   "metadata": {
    "dotnet_interactive": {
     "language": "csharp"
    },
    "polyglot_notebook": {
     "kernelName": "csharp"
    }
   },
   "source": [
    "### Exercise 5: conditionals\n",
    "\n",
    "The `if` keyword is a bit different in F# than most other languages. It is actually a function that returns a value!\n",
    "\n",
    "Check out this code:"
   ]
  },
  {
   "cell_type": "code",
   "execution_count": 36,
   "metadata": {
    "dotnet_interactive": {
     "language": "fsharp"
    },
    "vscode": {
     "languageId": "polyglot-notebook"
    }
   },
   "outputs": [
    {
     "name": "stdout",
     "output_type": "stream",
     "text": [
      "larger than three\n"
     ]
    }
   ],
   "source": [
    "let x = 5\n",
    "let result = if x > 3 then \"larger than three\" else \"smaller than or equal to three\"\n",
    "printfn \"%s\" result"
   ]
  },
  {
   "cell_type": "markdown",
   "metadata": {
    "dotnet_interactive": {
     "language": "csharp"
    },
    "polyglot_notebook": {
     "kernelName": "csharp"
    }
   },
   "source": [
    "You might know this as the [ternary operator](https://en.wikipedia.org/wiki/%3F:) in a lot of other languages: "
   ]
  },
  {
   "cell_type": "code",
   "execution_count": 37,
   "metadata": {
    "dotnet_interactive": {
     "language": "csharp"
    },
    "vscode": {
     "languageId": "polyglot-notebook"
    }
   },
   "outputs": [
    {
     "name": "stdout",
     "output_type": "stream",
     "text": [
      "larger than three\r\n"
     ]
    }
   ],
   "source": [
    "var x = 5;\n",
    "var result = x > 3 ? \"larger than three\" : \"smaller than or equal to three\";\n",
    "Console.WriteLine(\"{0}\", result);"
   ]
  },
  {
   "cell_type": "markdown",
   "metadata": {
    "dotnet_interactive": {
     "language": "csharp"
    },
    "polyglot_notebook": {
     "kernelName": "csharp"
    }
   },
   "source": [
    "Now for the questions:\n",
    "\n",
    "<ol type=\"a\">\n",
    "    <li>Write a function <i>verbose</i> that takes an integer and returns the string \"larger than three\", or \"equal to three\", or \"smaller than three\". Of course it should return the string that is true.</i>\n",
    "    <li>Try writing a function <i>forbidden</i> that takes an integer <i>x</i> returns x + 5 when x is larger than 3 and otherwise returns the string \"x is small\". Why is this not allowed? Can you understand the error the compiler gives?</i>\n",
    "</ol>"
   ]
  },
  {
   "cell_type": "code",
   "execution_count": 45,
   "metadata": {
    "dotnet_interactive": {
     "language": "fsharp"
    },
    "vscode": {
     "languageId": "polyglot-notebook"
    }
   },
   "outputs": [
    {
     "name": "stdout",
     "output_type": "stream",
     "text": [
      "\"larger than three\"\n",
      "10\n"
     ]
    }
   ],
   "source": [
    "let verbose x =\n",
    "    if x > 3 then\n",
    "        \"larger than three\"\n",
    "    else if x = 3 then\n",
    "        \"equal to three\"\n",
    "    else\n",
    "        \"smaller than three\"\n",
    "\n",
    "printfn \"%A\" (verbose 5)\n",
    "\n",
    "let forbidden x =\n",
    "    if x > 3 then\n",
    "        x + 5\n",
    "    else \n",
    "        x\n",
    "        \n",
    "printfn \"%A\" (forbidden 5)\n",
    "\n",
    "\n",
    "\n"
   ]
  },
  {
   "cell_type": "markdown",
   "metadata": {
    "dotnet_interactive": {
     "language": "csharp"
    },
    "polyglot_notebook": {
     "kernelName": "csharp"
    }
   },
   "source": [
    "### Exercise 6: loops\n",
    "\n",
    "Don't forget there are [docs](https://docs.microsoft.com/en-us/dotnet/fsharp/language-reference/loops-for-in-expression)! 😉\n",
    "\n",
    "<ol type=\"a\">\n",
    "    <li>Write a loop that prints out each number between 10 and 20.</li>\n",
    "    <li>Write a loop that prints out each number between 10 and 100 if the number is divisible by 7.</li>\n",
    "</ol>"
   ]
  },
  {
   "cell_type": "code",
   "execution_count": 53,
   "metadata": {
    "dotnet_interactive": {
     "language": "fsharp"
    },
    "vscode": {
     "languageId": "polyglot-notebook"
    }
   },
   "outputs": [
    {
     "name": "stdout",
     "output_type": "stream",
     "text": [
      "[11; 12; 13; 14; 15; 16; 17; 18; 19]\n",
      "[14; 21; 28; 35; 42; 49; 56; 63; 70; 77; 84; 91; 98]\n"
     ]
    }
   ],
   "source": [
    "let firstLoop = [ for i in 11 .. 19 -> (i) ]\n",
    "printfn \"%A\" firstLoop\n",
    "\n",
    "let secondLoop = [ for i in 11 .. 99 do if i % 7 = 0 then i ]\n",
    "printfn \"%A\" secondLoop"
   ]
  },
  {
   "cell_type": "markdown",
   "metadata": {
    "dotnet_interactive": {
     "language": "csharp"
    },
    "polyglot_notebook": {
     "kernelName": "csharp"
    }
   },
   "source": [
    "# Fin\n",
    "\n",
    "Great! You got started with F#! 🥳\n",
    "\n",
    "You're now ready for the next lecture. In the meantime you should start on the case study exercise that returns in each lecture. It's well worth your time as one of the exam questions will be based on it!"
   ]
  }
 ],
 "metadata": {
  "kernelspec": {
   "display_name": ".NET (C#)",
   "language": "C#",
   "name": ".net-csharp"
  },
  "polyglot_notebook": {
   "kernelInfo": {
    "defaultKernelName": "csharp",
    "items": [
     {
      "aliases": [
       "c#",
       "C#"
      ],
      "languageName": "C#",
      "name": "csharp"
     },
     {
      "aliases": [],
      "name": ".NET"
     },
     {
      "aliases": [
       "f#",
       "F#"
      ],
      "languageName": "F#",
      "name": "fsharp"
     },
     {
      "aliases": [],
      "languageName": "HTML",
      "name": "html"
     },
     {
      "aliases": [
       "js"
      ],
      "languageName": "JavaScript",
      "name": "javascript"
     },
     {
      "aliases": [],
      "languageName": "KQL",
      "name": "kql"
     },
     {
      "aliases": [],
      "languageName": "Mermaid",
      "name": "mermaid"
     },
     {
      "aliases": [
       "powershell"
      ],
      "languageName": "PowerShell",
      "name": "pwsh"
     },
     {
      "aliases": [],
      "languageName": "SQL",
      "name": "sql"
     },
     {
      "aliases": [],
      "name": "value"
     },
     {
      "aliases": [
       "frontend"
      ],
      "name": "vscode"
     },
     {
      "aliases": [],
      "name": "webview"
     }
    ]
   }
  }
 },
 "nbformat": 4,
 "nbformat_minor": 2
}
